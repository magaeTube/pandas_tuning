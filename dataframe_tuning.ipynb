{
 "cells": [
  {
   "cell_type": "code",
   "execution_count": 17,
   "id": "7e6a20c3",
   "metadata": {},
   "outputs": [],
   "source": [
    "import pandas as pd\n",
    "import numpy as np\n",
    "from tqdm import tqdm"
   ]
  },
  {
   "cell_type": "code",
   "execution_count": 2,
   "id": "b5637984",
   "metadata": {},
   "outputs": [],
   "source": [
    "df = pd.read_csv(\"installments_payments.csv\")"
   ]
  },
  {
   "cell_type": "markdown",
   "id": "8f6fe211",
   "metadata": {},
   "source": [
    "# 데이터 타입 변경으로 메모리 사용량 줄이기"
   ]
  },
  {
   "cell_type": "code",
   "execution_count": 3,
   "id": "2e48476d",
   "metadata": {},
   "outputs": [
    {
     "data": {
      "text/plain": [
       "(13605401, 8)"
      ]
     },
     "execution_count": 3,
     "metadata": {},
     "output_type": "execute_result"
    }
   ],
   "source": [
    "df.shape"
   ]
  },
  {
   "cell_type": "code",
   "execution_count": 4,
   "id": "654189cb",
   "metadata": {},
   "outputs": [
    {
     "data": {
      "text/html": [
       "<div>\n",
       "<style scoped>\n",
       "    .dataframe tbody tr th:only-of-type {\n",
       "        vertical-align: middle;\n",
       "    }\n",
       "\n",
       "    .dataframe tbody tr th {\n",
       "        vertical-align: top;\n",
       "    }\n",
       "\n",
       "    .dataframe thead th {\n",
       "        text-align: right;\n",
       "    }\n",
       "</style>\n",
       "<table border=\"1\" class=\"dataframe\">\n",
       "  <thead>\n",
       "    <tr style=\"text-align: right;\">\n",
       "      <th></th>\n",
       "      <th>SK_ID_PREV</th>\n",
       "      <th>SK_ID_CURR</th>\n",
       "      <th>NUM_INSTALMENT_VERSION</th>\n",
       "      <th>NUM_INSTALMENT_NUMBER</th>\n",
       "      <th>DAYS_INSTALMENT</th>\n",
       "      <th>DAYS_ENTRY_PAYMENT</th>\n",
       "      <th>AMT_INSTALMENT</th>\n",
       "      <th>AMT_PAYMENT</th>\n",
       "    </tr>\n",
       "  </thead>\n",
       "  <tbody>\n",
       "    <tr>\n",
       "      <th>0</th>\n",
       "      <td>1054186</td>\n",
       "      <td>161674</td>\n",
       "      <td>1.0</td>\n",
       "      <td>6</td>\n",
       "      <td>-1180.0</td>\n",
       "      <td>-1187.0</td>\n",
       "      <td>6948.360</td>\n",
       "      <td>6948.360</td>\n",
       "    </tr>\n",
       "    <tr>\n",
       "      <th>1</th>\n",
       "      <td>1330831</td>\n",
       "      <td>151639</td>\n",
       "      <td>0.0</td>\n",
       "      <td>34</td>\n",
       "      <td>-2156.0</td>\n",
       "      <td>-2156.0</td>\n",
       "      <td>1716.525</td>\n",
       "      <td>1716.525</td>\n",
       "    </tr>\n",
       "    <tr>\n",
       "      <th>2</th>\n",
       "      <td>2085231</td>\n",
       "      <td>193053</td>\n",
       "      <td>2.0</td>\n",
       "      <td>1</td>\n",
       "      <td>-63.0</td>\n",
       "      <td>-63.0</td>\n",
       "      <td>25425.000</td>\n",
       "      <td>25425.000</td>\n",
       "    </tr>\n",
       "    <tr>\n",
       "      <th>3</th>\n",
       "      <td>2452527</td>\n",
       "      <td>199697</td>\n",
       "      <td>1.0</td>\n",
       "      <td>3</td>\n",
       "      <td>-2418.0</td>\n",
       "      <td>-2426.0</td>\n",
       "      <td>24350.130</td>\n",
       "      <td>24350.130</td>\n",
       "    </tr>\n",
       "    <tr>\n",
       "      <th>4</th>\n",
       "      <td>2714724</td>\n",
       "      <td>167756</td>\n",
       "      <td>1.0</td>\n",
       "      <td>2</td>\n",
       "      <td>-1383.0</td>\n",
       "      <td>-1366.0</td>\n",
       "      <td>2165.040</td>\n",
       "      <td>2160.585</td>\n",
       "    </tr>\n",
       "  </tbody>\n",
       "</table>\n",
       "</div>"
      ],
      "text/plain": [
       "   SK_ID_PREV  SK_ID_CURR  NUM_INSTALMENT_VERSION  NUM_INSTALMENT_NUMBER  \\\n",
       "0     1054186      161674                     1.0                      6   \n",
       "1     1330831      151639                     0.0                     34   \n",
       "2     2085231      193053                     2.0                      1   \n",
       "3     2452527      199697                     1.0                      3   \n",
       "4     2714724      167756                     1.0                      2   \n",
       "\n",
       "   DAYS_INSTALMENT  DAYS_ENTRY_PAYMENT  AMT_INSTALMENT  AMT_PAYMENT  \n",
       "0          -1180.0             -1187.0        6948.360     6948.360  \n",
       "1          -2156.0             -2156.0        1716.525     1716.525  \n",
       "2            -63.0               -63.0       25425.000    25425.000  \n",
       "3          -2418.0             -2426.0       24350.130    24350.130  \n",
       "4          -1383.0             -1366.0        2165.040     2160.585  "
      ]
     },
     "execution_count": 4,
     "metadata": {},
     "output_type": "execute_result"
    }
   ],
   "source": [
    "df.head()"
   ]
  },
  {
   "cell_type": "code",
   "execution_count": 5,
   "id": "4a849c91",
   "metadata": {},
   "outputs": [
    {
     "name": "stdout",
     "output_type": "stream",
     "text": [
      "<class 'pandas.core.frame.DataFrame'>\n",
      "RangeIndex: 13605401 entries, 0 to 13605400\n",
      "Data columns (total 8 columns):\n",
      " #   Column                  Dtype  \n",
      "---  ------                  -----  \n",
      " 0   SK_ID_PREV              int64  \n",
      " 1   SK_ID_CURR              int64  \n",
      " 2   NUM_INSTALMENT_VERSION  float64\n",
      " 3   NUM_INSTALMENT_NUMBER   int64  \n",
      " 4   DAYS_INSTALMENT         float64\n",
      " 5   DAYS_ENTRY_PAYMENT      float64\n",
      " 6   AMT_INSTALMENT          float64\n",
      " 7   AMT_PAYMENT             float64\n",
      "dtypes: float64(5), int64(3)\n",
      "memory usage: 830.4 MB\n"
     ]
    }
   ],
   "source": [
    "df.info()"
   ]
  },
  {
   "cell_type": "markdown",
   "id": "49d9897a",
   "metadata": {},
   "source": [
    "* 메모리 사용을 830메가 하는 중\n",
    "* Data Type도 불필요하게 과함"
   ]
  },
  {
   "cell_type": "code",
   "execution_count": 6,
   "id": "d96585ab",
   "metadata": {},
   "outputs": [
    {
     "name": "stdout",
     "output_type": "stream",
     "text": [
      "컬럼명 : SK_ID_PREV 최소값 : 1000001 최대값 : 2843499\n",
      "컬럼명 : SK_ID_CURR 최소값 : 100001 최대값 : 456255\n",
      "컬럼명 : NUM_INSTALMENT_VERSION 최소값 : 0.0 최대값 : 178.0\n",
      "컬럼명 : NUM_INSTALMENT_NUMBER 최소값 : 1 최대값 : 277\n",
      "컬럼명 : DAYS_INSTALMENT 최소값 : -2922.0 최대값 : -1.0\n",
      "컬럼명 : DAYS_ENTRY_PAYMENT 최소값 : -4921.0 최대값 : -1.0\n",
      "컬럼명 : AMT_INSTALMENT 최소값 : 0.0 최대값 : 3771487.845\n",
      "컬럼명 : AMT_PAYMENT 최소값 : 0.0 최대값 : 3771487.845\n"
     ]
    }
   ],
   "source": [
    "for col in df.columns:\n",
    "    print(\"컬럼명 :\", col, \"최소값 :\", df[col].min(), \"최대값 :\", df[col].max())"
   ]
  },
  {
   "cell_type": "code",
   "execution_count": 7,
   "id": "3bd8593b",
   "metadata": {},
   "outputs": [],
   "source": [
    "# 각 데이터에 맞는 데이터 Type 변경\n",
    "df = df.astype({\n",
    "    \"SK_ID_PREV\": np.int32,\n",
    "    \"SK_ID_CURR\": np.int32,\n",
    "    \"NUM_INSTALMENT_VERSION\": np.float16,\n",
    "    \"NUM_INSTALMENT_NUMBER\": np.int16,\n",
    "    \"DAYS_INSTALMENT\": np.float16,\n",
    "    \"DAYS_ENTRY_PAYMENT\": np.float16\n",
    "})"
   ]
  },
  {
   "cell_type": "code",
   "execution_count": 8,
   "id": "c2906971",
   "metadata": {},
   "outputs": [
    {
     "name": "stdout",
     "output_type": "stream",
     "text": [
      "<class 'pandas.core.frame.DataFrame'>\n",
      "RangeIndex: 13605401 entries, 0 to 13605400\n",
      "Data columns (total 8 columns):\n",
      " #   Column                  Dtype  \n",
      "---  ------                  -----  \n",
      " 0   SK_ID_PREV              int32  \n",
      " 1   SK_ID_CURR              int32  \n",
      " 2   NUM_INSTALMENT_VERSION  float16\n",
      " 3   NUM_INSTALMENT_NUMBER   int16  \n",
      " 4   DAYS_INSTALMENT         float16\n",
      " 5   DAYS_ENTRY_PAYMENT      float16\n",
      " 6   AMT_INSTALMENT          float64\n",
      " 7   AMT_PAYMENT             float64\n",
      "dtypes: float16(3), float64(2), int16(1), int32(2)\n",
      "memory usage: 415.2 MB\n"
     ]
    }
   ],
   "source": [
    "df.info()"
   ]
  },
  {
   "cell_type": "markdown",
   "id": "1415fe50",
   "metadata": {},
   "source": [
    "* 메모리 사용량이 415메가로 절반으로 줄어듬"
   ]
  },
  {
   "cell_type": "markdown",
   "id": "447c2798",
   "metadata": {},
   "source": [
    "# 데이터 처리 속도 증가시키기"
   ]
  },
  {
   "cell_type": "markdown",
   "id": "04bac431",
   "metadata": {},
   "source": [
    "### iloc로 접근하는 경우\n",
    "* range를 이용해 for문 실행\n",
    "* iloc, loc와 같은 인덱스 기반 접근\n",
    "* 결과 : 34분 소요 (속도 : 6700 it/s)"
   ]
  },
  {
   "cell_type": "code",
   "execution_count": 19,
   "id": "bb6a0f0a",
   "metadata": {
    "scrolled": true
   },
   "outputs": [
    {
     "name": "stderr",
     "output_type": "stream",
     "text": [
      "100%|████████████████████████████████████████████████████████████████████| 13605401/13605401 [34:33<00:00, 6562.42it/s]"
     ]
    },
    {
     "name": "stdout",
     "output_type": "stream",
     "text": [
      "CPU times: user 34min 13s, sys: 24.7 s, total: 34min 37s\n",
      "Wall time: 34min 33s\n"
     ]
    },
    {
     "name": "stderr",
     "output_type": "stream",
     "text": [
      "\n"
     ]
    }
   ],
   "source": [
    "%%time\n",
    "cnt = 0\n",
    "for i in tqdm(range(len(df)), total = len(df), position=0, leave=True):\n",
    "    d = df.iloc[i, :]\n",
    "    cnt +=1"
   ]
  },
  {
   "cell_type": "code",
   "execution_count": 21,
   "id": "4371cc87",
   "metadata": {},
   "outputs": [
    {
     "name": "stderr",
     "output_type": "stream",
     "text": [
      "  0%|                                                                                     | 0/13605401 [00:00<?, ?it/s]"
     ]
    },
    {
     "name": "stdout",
     "output_type": "stream",
     "text": [
      "<class 'int'> 0\n",
      "SK_ID_PREV                1054186.00\n",
      "SK_ID_CURR                 161674.00\n",
      "NUM_INSTALMENT_VERSION          1.00\n",
      "NUM_INSTALMENT_NUMBER           6.00\n",
      "DAYS_INSTALMENT             -1180.00\n",
      "DAYS_ENTRY_PAYMENT          -1187.00\n",
      "AMT_INSTALMENT               6948.36\n",
      "AMT_PAYMENT                  6948.36\n",
      "Name: 0, dtype: float64\n"
     ]
    },
    {
     "name": "stderr",
     "output_type": "stream",
     "text": [
      "\n"
     ]
    }
   ],
   "source": [
    "for i in tqdm(range(len(df)), total = len(df), position=0, leave=True):\n",
    "    print(type(i), i)\n",
    "    print(df.iloc[i, :])\n",
    "    break"
   ]
  },
  {
   "cell_type": "markdown",
   "id": "8a6107bf",
   "metadata": {},
   "source": [
    "### dataframe의 iterrows() 사용하기\n",
    "* 결과 : 10분 소요 (속도 : 20000 it/s)"
   ]
  },
  {
   "cell_type": "code",
   "execution_count": 22,
   "id": "a086ef25",
   "metadata": {},
   "outputs": [
    {
     "name": "stderr",
     "output_type": "stream",
     "text": [
      "100%|███████████████████████████████████████████████████████████████████| 13605401/13605401 [10:51<00:00, 20892.61it/s]"
     ]
    },
    {
     "name": "stdout",
     "output_type": "stream",
     "text": [
      "CPU times: user 10min 45s, sys: 7.55 s, total: 10min 53s\n",
      "Wall time: 10min 51s\n"
     ]
    },
    {
     "name": "stderr",
     "output_type": "stream",
     "text": [
      "\n"
     ]
    }
   ],
   "source": [
    "%%time\n",
    "cnt = 0\n",
    "for rows in tqdm(df.iterrows(), total=len(df), position=0, leave=True):\n",
    "    d = rows[1].values\n",
    "    cnt += 1"
   ]
  },
  {
   "cell_type": "code",
   "execution_count": 24,
   "id": "507ae451",
   "metadata": {
    "scrolled": true
   },
   "outputs": [
    {
     "name": "stderr",
     "output_type": "stream",
     "text": [
      "  0%|                                                                                     | 0/13605401 [00:00<?, ?it/s]"
     ]
    },
    {
     "name": "stdout",
     "output_type": "stream",
     "text": [
      "<class 'tuple'> (0, SK_ID_PREV                1054186.00\n",
      "SK_ID_CURR                 161674.00\n",
      "NUM_INSTALMENT_VERSION          1.00\n",
      "NUM_INSTALMENT_NUMBER           6.00\n",
      "DAYS_INSTALMENT             -1180.00\n",
      "DAYS_ENTRY_PAYMENT          -1187.00\n",
      "AMT_INSTALMENT               6948.36\n",
      "AMT_PAYMENT                  6948.36\n",
      "Name: 0, dtype: float64)\n",
      "SK_ID_PREV                1054186.00\n",
      "SK_ID_CURR                 161674.00\n",
      "NUM_INSTALMENT_VERSION          1.00\n",
      "NUM_INSTALMENT_NUMBER           6.00\n",
      "DAYS_INSTALMENT             -1180.00\n",
      "DAYS_ENTRY_PAYMENT          -1187.00\n",
      "AMT_INSTALMENT               6948.36\n",
      "AMT_PAYMENT                  6948.36\n",
      "Name: 0, dtype: float64\n"
     ]
    },
    {
     "name": "stderr",
     "output_type": "stream",
     "text": [
      "\n"
     ]
    }
   ],
   "source": [
    "for rows in tqdm(df.iterrows(), total=len(df), position=0, leave=True):\n",
    "    print(type(rows), rows)\n",
    "    print(rows[1])\n",
    "    d = rows[1].values\n",
    "    cnt += 1\n",
    "    break"
   ]
  },
  {
   "cell_type": "markdown",
   "id": "da015648",
   "metadata": {},
   "source": [
    "### numpy로 접근하기\n",
    "* df.to_numpy 이용\n",
    "* 결과 : 6초 소요 (속도 : 2300000 it/s)"
   ]
  },
  {
   "cell_type": "code",
   "execution_count": 25,
   "id": "b4d98565",
   "metadata": {},
   "outputs": [
    {
     "name": "stderr",
     "output_type": "stream",
     "text": [
      "100%|█████████████████████████████████████████████████████████████████| 13605401/13605401 [00:05<00:00, 2292756.17it/s]"
     ]
    },
    {
     "name": "stdout",
     "output_type": "stream",
     "text": [
      "CPU times: user 6.14 s, sys: 334 ms, total: 6.47 s\n",
      "Wall time: 6.45 s\n"
     ]
    },
    {
     "name": "stderr",
     "output_type": "stream",
     "text": [
      "\n"
     ]
    }
   ],
   "source": [
    "%%time\n",
    "cnt = 0\n",
    "for rows in tqdm(df.to_numpy(), total=len(df), position=0, leave=True):\n",
    "    d = rows\n",
    "    cnt += 1"
   ]
  },
  {
   "cell_type": "markdown",
   "id": "3a0334b3",
   "metadata": {},
   "source": [
    "# 데이터 저장 시 용량 감소시키기"
   ]
  },
  {
   "cell_type": "markdown",
   "id": "ba3caa37",
   "metadata": {},
   "source": [
    "### npz로 저장하기 \n",
    "* npz로 저장하면 key-value 형태로 저장할 수 있다. key는 컬럼, value는 그에 대한 값이 저장될 수 있다\n",
    "* 기존 : 723 MB, 변경 : 435 MB"
   ]
  },
  {
   "cell_type": "code",
   "execution_count": 27,
   "id": "139b08d9",
   "metadata": {},
   "outputs": [],
   "source": [
    "SK_ID_PREV = df[\"SK_ID_PREV\"].values\n",
    "SK_ID_CURR = df[\"SK_ID_CURR\"].values\n",
    "NUM_INSTALMENT_VERSION = df[\"NUM_INSTALMENT_VERSION\"].values\n",
    "NUM_INSTALMENT_NUMBER = df[\"NUM_INSTALMENT_NUMBER\"].values\n",
    "DAYS_INSTALMENT = df[\"DAYS_INSTALMENT\"].values\n",
    "DAYS_ENTRY_PAYMENT = df[\"DAYS_ENTRY_PAYMENT\"].values\n",
    "AMT_INSTALMENT = df[\"AMT_INSTALMENT\"].values\n",
    "AMT_PAYMENT = df[\"AMT_PAYMENT\"].values"
   ]
  },
  {
   "cell_type": "code",
   "execution_count": 28,
   "id": "fdbef825",
   "metadata": {},
   "outputs": [],
   "source": [
    "np.savez('data.npz', SK_ID_PREV=SK_ID_PREV, SK_ID_CURR=SK_ID_CURR, NUM_INSTALMENT_VERSION=NUM_INSTALMENT_VERSION, NUM_INSTALMENT_NUMBER=NUM_INSTALMENT_NUMBER, DAYS_INSTALMENT=DAYS_INSTALMENT, DAYS_ENTRY_PAYMENT=DAYS_ENTRY_PAYMENT, AMT_INSTALMENT=AMT_INSTALMENT, AMT_PAYMENT=AMT_PAYMENT)"
   ]
  },
  {
   "cell_type": "markdown",
   "id": "57c34dfc",
   "metadata": {},
   "source": [
    "### pickle로 저장하기\n",
    "* 기존 : 723 MB, 변경 : 435 MB"
   ]
  },
  {
   "cell_type": "code",
   "execution_count": 29,
   "id": "8e21e643",
   "metadata": {},
   "outputs": [],
   "source": [
    "import pickle\n",
    "\n",
    "with open(\"data.pickle\", \"wb\") as f:\n",
    "    pickle.dump(df, f, protocol=pickle.HIGHEST_PROTOCOL)"
   ]
  }
 ],
 "metadata": {
  "kernelspec": {
   "display_name": "Python 3 (ipykernel)",
   "language": "python",
   "name": "python3"
  },
  "language_info": {
   "codemirror_mode": {
    "name": "ipython",
    "version": 3
   },
   "file_extension": ".py",
   "mimetype": "text/x-python",
   "name": "python",
   "nbconvert_exporter": "python",
   "pygments_lexer": "ipython3",
   "version": "3.8.2"
  }
 },
 "nbformat": 4,
 "nbformat_minor": 5
}
